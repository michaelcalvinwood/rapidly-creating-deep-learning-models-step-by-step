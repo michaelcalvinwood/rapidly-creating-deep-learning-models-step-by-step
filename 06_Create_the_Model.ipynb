{
  "nbformat": 4,
  "nbformat_minor": 0,
  "metadata": {
    "colab": {
      "provenance": [],
      "collapsed_sections": [
        "bEopNXoipoAZ",
        "gQbeRjsbmIXj",
        "A4Pc4EVFoLQW",
        "ycrRkB48oOVM",
        "MYdnyZuCoURT",
        "ZM33N7tz8q3t"
      ]
    },
    "kernelspec": {
      "name": "python3",
      "display_name": "Python 3"
    },
    "language_info": {
      "name": "python"
    }
  },
  "cells": [
    {
      "cell_type": "markdown",
      "source": [
        "## Model Hyperparameters"
      ],
      "metadata": {
        "id": "Wm6XQxYWmEq0"
      }
    },
    {
      "cell_type": "markdown",
      "source": [
        "### Regression Hyperparameters"
      ],
      "metadata": {
        "id": "bEopNXoipoAZ"
      }
    },
    {
      "cell_type": "markdown",
      "source": [
        "**Input Layer Shape:**  Same shape as the number of features (e.g. 3 in our example)\n",
        "\n",
        "**Hidden Layer(s):**    Problem specific. Ranges from 1 to unlimited.\n",
        "\n",
        "**Neurons per Hidden Layer:** Problem specific. Generally 10 to 100.\n",
        "\n",
        "**Output Layer Shape:** Same shape as desired prediction (e.g. 1 for house price)\n",
        "\n",
        "**Hidden Activation:** Usually Rectified Linear Unit (ReLU)\n",
        "\n",
        "**Output Activation:** None, ReLU, logistic/tanh\n",
        "\n",
        "**Loss Function:** Mean Squre Error (MSE), Mean Absolute Error (MAE), Huber (combination of MSE & MAE)\n",
        "\n",
        "**Optimizer:** Stochastic Gradient Descent (SGD), Adam\n",
        "\n",
        "Note: Stochastic means random"
      ],
      "metadata": {
        "id": "wzPkzGm7psqR"
      }
    },
    {
      "cell_type": "markdown",
      "source": [
        "### Binary Classification Hyperparameters"
      ],
      "metadata": {
        "id": "gQbeRjsbmIXj"
      }
    },
    {
      "cell_type": "markdown",
      "source": [
        "**Input Layer Shape:** Same as number of features\n",
        "\n",
        "**Hidden Layer(s):** Problem specific. minimum 1, maximum=unlimited\n",
        "\n",
        "**Neurons per Hidden Layer:** Problem specific. Generally 10 to 100\n",
        "\n",
        "**Output Layer Shape:** 1 (one class or the other)\n",
        "\n",
        "**Hidden Activation:** Usually Rectified Linear Unit (ReLU)\n",
        "\n",
        "**Output Activation:** Sigmoid\n",
        "\n",
        "**Loss Function:** Cross entropy (tf.keras.losses.BinaryCrossentropy in TensorFlow)\n",
        "\n",
        "**Optimizer:** Stochastic Gradient Descent, Adam (Adam is safest)\n"
      ],
      "metadata": {
        "id": "zQO3OEJrmNb6"
      }
    },
    {
      "cell_type": "markdown",
      "source": [
        "### Multi-Class Classification Hyperparameters"
      ],
      "metadata": {
        "id": "GACzaBaomheR"
      }
    },
    {
      "cell_type": "markdown",
      "source": [
        "**Input Layer Shape:** Same as number of features\n",
        "\n",
        "**Hidden Layer(s):** Problem specific. minimum 1, maximum=unlimited\n",
        "\n",
        "**Neurons per Hidden Layer:** Problem specific. Generally 10 to 100\n",
        "\n",
        "**Output Layer Shape:** 1 per class\n",
        "\n",
        "**Hidden Activation:** Usually Rectified Linear Unit (ReLU)\n",
        "\n",
        "**Output Activation:** Softmax\n",
        "\n",
        "**Loss Function:** Cross entropy\n",
        "  \n",
        "&nbsp;&nbsp;&nbsp;&nbsp;&nbsp;*Integer Labels:* tf.keras.losses.SparseCategoricalCrossentropy()\n",
        "\n",
        "&nbsp;&nbsp;&nbsp;&nbsp;&nbsp;*One-Hot Labels:* tf.keras.losses.CategoricalCrossentropy()\n",
        "\n",
        "**Optimizer:** Stochastic Gradient Descent, Adam (Adam is safest)\n",
        "\n",
        "**Metrics:** Accuracy"
      ],
      "metadata": {
        "id": "ntK8HaUFmld6"
      }
    },
    {
      "cell_type": "markdown",
      "source": [
        "### Convolutional Neural Network (CNN) Hyperparamters"
      ],
      "metadata": {
        "id": "A4Pc4EVFoLQW"
      }
    },
    {
      "cell_type": "markdown",
      "source": [
        "**Input Image(s):** The images that we're going to discover patterns in\n",
        "\n",
        "**Input Layer:** Takes in the target images and preprocesses them for further layers input_shape=[batch_size, image_height, image_width, color_channels]\n",
        "\n",
        "**Convolution Layers:** Learns the most important features from the images; created with tf.keras.layers.Conv2D or tf.keras.layers.ConvXD\n",
        "\n",
        "**Hidden activation:** Usually ReLU tf.keras.activations.relu\n",
        "\n",
        "**Pooling Layer:** Reduces the dimensionality of learned image features. Usually either:\n",
        "\n",
        "&nbsp;&nbsp;&nbsp;&nbsp;&nbsp;*Average:* tf.keras.layers.AvgPool2D\n",
        "\n",
        "&nbsp;&nbsp;&nbsp;&nbsp;&nbsp;*Max:* tf.keras.layers.MaxPool2D\n",
        "\n",
        "**Fully connected layer:** Further refines learned features from the convolution layers: tf.keras.layers.Dense\n",
        "\n",
        "**Ouptut Layer:** output_shape = [number of classes]\n",
        "\n",
        "**Output Activation:** sigmoid"
      ],
      "metadata": {
        "id": "qjJLN5KQxp8o"
      }
    },
    {
      "cell_type": "markdown",
      "source": [
        "## Binary Classification Models"
      ],
      "metadata": {
        "id": "ycrRkB48oOVM"
      }
    },
    {
      "cell_type": "markdown",
      "source": [
        "### Binary Classification Base Model"
      ],
      "metadata": {
        "id": "MYdnyZuCoURT"
      }
    },
    {
      "cell_type": "code",
      "source": [
        "import tensorflow as tf\n",
        "\n",
        "def binary_classification_base_model():\n",
        "  model = tf.keras.Sequential([\n",
        "  tf.keras.layers.Input(shape=(2,)),\n",
        "  tf.keras.layers.Dense(10, activation=\"relu\"),\n",
        "  tf.keras.layers.Dense(10, activation=\"relu\"),\n",
        "  tf.keras.layers.Dense(1, activation=\"sigmoid\") # important to have sigmoid activation as the output layer in binary classification\n",
        "])\n",
        "\n",
        "  model.compile(loss=tf.keras.losses.BinaryCrossentropy(), # binary since we are working with 2 clases (0 & 1)\n",
        "                optimizer=tf.keras.optimizers.Adam(),\n",
        "                metrics=['accuracy'])\n",
        "  return model"
      ],
      "metadata": {
        "id": "DpOi1URQoXy_"
      },
      "execution_count": 21,
      "outputs": []
    },
    {
      "cell_type": "markdown",
      "source": [
        "## Multi-Class Classification Models"
      ],
      "metadata": {
        "id": "ZM33N7tz8q3t"
      }
    },
    {
      "cell_type": "markdown",
      "source": [
        "### Multi-Class Classification Base Models\n",
        "\n",
        "**If labels are in one-hot representation** then loss = CategoricalCrossentropy\n",
        "\n",
        "**If labels are in integer format** then loss = SparseCateogoricalCrossentropy\n"
      ],
      "metadata": {
        "id": "cK4Mob1s812C"
      }
    },
    {
      "cell_type": "code",
      "source": [
        "import tensorflow as tf\n",
        "def multi_class_classification_base_model_integer_labels(input_shape, num_classes):\n",
        "  model = tf.keras.Sequential([\n",
        "      tf.keras.layers.Flatten(input_shape=input_shape),\n",
        "      tf.keras.layers.Dense(4, activation=\"relu\"),\n",
        "      tf.keras.layers.Dense(4, activation=\"relu\"),\n",
        "      tf.keras.layers.Dense(num_classes, activation=tf.keras.activations.softmax)\n",
        "  ])\n",
        "\n",
        "  model.compile(\n",
        "      loss=tf.keras.losses.SparseCategoricalCrossentropy(),\n",
        "      optimizer=tf.keras.optimizers.Adam(),\n",
        "      metrics=[\"accuracy\"]\n",
        "  )\n",
        "  return model\n",
        "\n",
        "def multi_class_classification_base_model_one_hot_encoded_layers(input_shape, num_classes):\n",
        "  # tf.one_hot(y_train, depth={num_classes})\n",
        "  model = tf.keras.Sequential([\n",
        "      tf.keras.layers.Flatten(input_shape=input_shape),\n",
        "      tf.keras.layers.Dense(4, activation=\"relu\"),\n",
        "      tf.keras.layers.Dense(4, activation=\"relu\"),\n",
        "      tf.keras.layers.Dense(num_classes, activation=tf.keras.activations.softmax)\n",
        "  ])\n",
        "\n",
        "  model.compile(\n",
        "      loss=tf.keras.losses.CategoricalCrossentropy(),\n",
        "      optimizer=tf.keras.optimizers.Adam(),\n",
        "      metrics=[\"accuracy\"]\n",
        "  )\n",
        "  return model\n",
        "\n",
        "#model = multi_class_classification_base_model_integer_labels((28, 28),10)"
      ],
      "metadata": {
        "id": "l0xUqXdR87SY"
      },
      "execution_count": 16,
      "outputs": []
    },
    {
      "cell_type": "code",
      "source": [],
      "metadata": {
        "id": "sukANy4I-GdC"
      },
      "execution_count": null,
      "outputs": []
    }
  ]
}